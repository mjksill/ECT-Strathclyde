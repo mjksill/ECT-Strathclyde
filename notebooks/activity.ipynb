{
 "cells": [
  {
   "cell_type": "markdown",
   "metadata": {},
   "source": [
    "# Delivering domesting heating\n",
    "\n",
    "\n"
   ]
  },
  {
   "cell_type": "code",
   "execution_count": 1,
   "metadata": {},
   "outputs": [],
   "source": [
    "data = {}\n",
    "data['CH4'] = {'Mw': 16.04, 'Cp': 35.639, 'Hf':  -74.873 , 'Gf':  -50.768}\n",
    "data['N2']  = {'Mw': 14.01, 'Cp': 29.124, 'Hf':    0.000 , 'Gf':    0.000}\n",
    "data['O2']  = {'Mw': 16.00, 'Cp': 29.376, 'Hf':    0.000 , 'Gf':    0.000}\n",
    "data['CO']  = {'Mw': 28.01, 'Cp': 29.124, 'Hf': -110.527 , 'Gf': -137.163}\n",
    "data['CO2'] = {'Mw': 44.01, 'Cp': 37.129, 'Hf': -393.522 , 'Gf': -394.389}\n",
    "data['H2Og']= {'Mw': 18.02, 'Cp':  2.135, 'Hf': -241.826 , 'Gf': -228.582}\n",
    "data['H2Ol']= {'Mw': 18.02, 'Cp': 75.351, 'Hf': -285.830 , 'Gf': -237.141}\n"
   ]
  },
  {
   "cell_type": "code",
   "execution_count": 3,
   "metadata": {},
   "outputs": [
    {
     "name": "stdout",
     "output_type": "stream",
     "text": [
      "-802.3009999999999\n",
      "-890.309\n"
     ]
    }
   ],
   "source": [
    "LHV = data['CO2']['Hf'] + 2*data['H2Og']['Hf'] - data['CH4']['Hf'] - 2*data['O2']['Hf']\n",
    "print(LHV)\n",
    "\n",
    "HHV = data['CO2']['Hf'] + 2*data['H2Ol']['Hf'] - data['CH4']['Hf'] - 2*data['O2']['Hf']\n",
    "print(HHV)\n"
   ]
  },
  {
   "cell_type": "code",
   "execution_count": 12,
   "metadata": {},
   "outputs": [
    {
     "name": "stdout",
     "output_type": "stream",
     "text": [
      "{'CH4': 0.17355371900826444, 'O2': 0.17355371900826444, 'N2': 0.652892561983471}\n",
      "174.57671428571427\n"
     ]
    }
   ],
   "source": [
    "lam = 1.0\n",
    "N_dict = {'CH4': 1.0, 'O2':lam, 'N2':lam*0.79/0.21}\n",
    "\n",
    "def get_Cp(N_dict):\n",
    "    Cp = 0.0\n",
    "    for A, NA in N_dict.items():\n",
    "        Cp += NA * data[A]['Cp']\n",
    "    return Cp\n",
    "\n",
    "def get_mole_fraction(N_dict):\n",
    "    Ntotal = sum(N_dict.values())\n",
    "    y_dict = {A: NA/Ntotal for A, NA in N_dict.items()}\n",
    "    return y_dict\n",
    "\n",
    "y_dict = get_mole_fraction(N_dict)\n",
    "print(y_dict)\n",
    "    \n",
    "Cp = get_Cp(N_dict)        \n",
    "print(Cp)    "
   ]
  },
  {
   "cell_type": "code",
   "execution_count": 8,
   "metadata": {},
   "outputs": [
    {
     "name": "stdout",
     "output_type": "stream",
     "text": [
      "404.4943820224719\n"
     ]
    }
   ],
   "source": [
    "print(100/890*3600)"
   ]
  },
  {
   "cell_type": "code",
   "execution_count": 9,
   "metadata": {},
   "outputs": [
    {
     "name": "stdout",
     "output_type": "stream",
     "text": [
      "14.9\n"
     ]
    }
   ],
   "source": [
    "print(298/20)"
   ]
  },
  {
   "cell_type": "code",
   "execution_count": null,
   "metadata": {},
   "outputs": [],
   "source": []
  }
 ],
 "metadata": {
  "kernelspec": {
   "display_name": "Python 3 (ipykernel)",
   "language": "python",
   "name": "python3"
  },
  "language_info": {
   "codemirror_mode": {
    "name": "ipython",
    "version": 3
   },
   "file_extension": ".py",
   "mimetype": "text/x-python",
   "name": "python",
   "nbconvert_exporter": "python",
   "pygments_lexer": "ipython3",
   "version": "3.10.6"
  }
 },
 "nbformat": 4,
 "nbformat_minor": 1
}
