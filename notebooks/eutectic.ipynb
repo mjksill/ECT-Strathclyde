{
  "cells": [
    {
      "cell_type": "markdown",
      "id": "eb8408de",
      "metadata": {
        "id": "eb8408de"
      },
      "source": [
        "# Estimation of freezing properties of mixtures\n",
        "\n",
        "This notebook estimates the eutectic temperature of binary and ternary mixtures using the van't Hoff equation."
      ]
    },
    {
      "cell_type": "markdown",
      "id": "996b9434",
      "metadata": {
        "id": "996b9434"
      },
      "source": [
        "## Data\n",
        "\n",
        "Enter the required thermodynamic properties in the cell below."
      ]
    },
    {
      "cell_type": "code",
      "execution_count": null,
      "id": "bd8f83dc",
      "metadata": {
        "id": "bd8f83dc"
      },
      "outputs": [],
      "source": [
        "# 1,1,1,2,3,3-hexafluoropropane\n",
        "MA = 152.04      # g mol^{-1}\n",
        "TA = 127.0       # K   \n",
        "HA = 7.55e3      # J mol^{-1}\n",
        "densA = 1.589e3  # kg m^{-3}\n",
        "\n",
        "\n",
        "# difluoromethane\n",
        "MB = 52.023    # g mol^{-1}\n",
        "TB = 136.8     # K\n",
        "HB = 4.38e3    # J mol^{-1}\n",
        "densB = 1.395e3  # kg m^{-3}\n",
        "\n",
        "\n",
        "# trifluoromethane\n",
        "MC = 70.014    # g mol^{-1}\n",
        "TC = 115.8     # K\n",
        "HC = 4.06e3    # J mol^{-1}\n",
        "densC = 1.690e3  # kg m^{-3}"
      ]
    },
    {
      "cell_type": "markdown",
      "id": "05684a3e",
      "metadata": {
        "id": "05684a3e"
      },
      "source": [
        "## Binary mixtures with component $A$"
      ]
    },
    {
      "cell_type": "code",
      "execution_count": null,
      "id": "0fef9d5b",
      "metadata": {
        "scrolled": true,
        "id": "0fef9d5b",
        "outputId": "f7a4884b-8846-40e9-bb53-636896fa80c3"
      },
      "outputs": [
        {
          "name": "stdout",
          "output_type": "stream",
          "text": [
            "eutectic A B: 115.83 K, xA=0.502\n",
            "eutectic A C: 107.59 K, xA=0.275\n"
          ]
        },
        {
          "data": {
            "image/png": "[encoded data removed]",
            "text/plain": [
              "<Figure size 432x288 with 1 Axes>"
            ]
          },
          "metadata": {
            "needs_background": "light"
          },
          "output_type": "display_data"
        }
      ],
      "source": [
        "import numpy as np\n",
        "import pylab as plt\n",
        "from scipy.optimize import fsolve\n",
        "\n",
        "def G(T, T0, H0):\n",
        "    x = T0/T - 1.0\n",
        "    slope = H0/(R*T0)\n",
        "    return slope*x\n",
        "\n",
        "def res(T, TA, HA, TB, HB):\n",
        "    xA = np.exp(-G(T, TA, HA))\n",
        "    xB = np.exp(-G(T, TB, HB))\n",
        "    return xA + xB - 1.0\n",
        "\n",
        "R = 8.314\n",
        "\n",
        "\n",
        "\n",
        "\n",
        "sol = fsolve(res, TA, args=(TA, HA, TB, HB))\n",
        "TminAB = sol[0]\n",
        "xminAB = np.exp(-G(TminAB, TA, HA))\n",
        "print(f'eutectic A B: {TminAB:.2f} K, xA={xminAB:.3f}')\n",
        "\n",
        "sol = fsolve(res, TA, args=(TA, HA, TC, HC))\n",
        "TminAC = sol[0]\n",
        "xminAC = np.exp(-G(TminAC, TA, HA))\n",
        "print(f'eutectic A C: {TminAC:.2f} K, xA={xminAC:.3f}')\n",
        "\n",
        "Tmax = max(TA, TB, TC)\n",
        "Tmin = min(TminAB, TminAC)\n",
        "wmin = xmin*MA/(xmin*MA+(1.0-xmin)*MB)\n",
        "#print(f'{wmin}, {Tmin} K')\n",
        "\n",
        "T_list = np.linspace(Tmin, Tmax, 100)\n",
        "x_list = [np.exp(-G(T, TA, HA)) for T in T_list]\n",
        "w_list = [x*MA/(x*MA+(1.0-x)*MB) for x in x_list]\n",
        "plt.plot(x_list, T_list, label=r'freezing line $A$')\n",
        "\n",
        "\n",
        "T_list = np.linspace(TminAB, Tmax, 100)\n",
        "x_list = [1.0-np.exp(-G(T, TB, HB)) for T in T_list]\n",
        "w_list = [x*MA/(x*MA+(1.0-x)*MB) for x in x_list]\n",
        "plt.plot(x_list, T_list, label=r'freezing line $B$')\n",
        "\n",
        "T_list = np.linspace(TminAC, Tmax, 100)\n",
        "x_list = [1.0-np.exp(-G(T, TC, HC)) for T in T_list]\n",
        "w_list = [x*MA/(x*MA+(1.0-x)*MC) for x in x_list]\n",
        "plt.plot(x_list, T_list, label=r'freezing line $C$')\n",
        "\n",
        "plt.xlim([0.0, 1.0])\n",
        "plt.xlabel(r'mole fraction $A$')\n",
        "plt.ylabel(r'temperature / K')\n",
        "plt.legend()\n",
        "plt.show()\n"
      ]
    },
    {
      "cell_type": "markdown",
      "id": "6f2f340b",
      "metadata": {
        "id": "6f2f340b"
      },
      "source": [
        "## Ternary mixture\n",
        "\n",
        "This estimates the eutectic point and its associated properties."
      ]
    },
    {
      "cell_type": "code",
      "execution_count": null,
      "id": "99018195",
      "metadata": {
        "id": "99018195",
        "outputId": "aa620393-cee8-4086-e272-d772e0c07c9b"
      },
      "outputs": [
        {
          "name": "stdout",
          "output_type": "stream",
          "text": [
            "eutectic temperature: 101.87 K\n",
            "eutectic composition: 0.171  0.267  0.562\n",
            "latent heat: 4.74 kJ mol^{-1}\n",
            "1597.44 kg mol^{-1}\n",
            "energy density: 95.6 MJ m^{-1}\n"
          ]
        }
      ],
      "source": [
        "import numpy as np\n",
        "import pylab as plt\n",
        "from scipy.optimize import fsolve\n",
        "\n",
        "\n",
        "def res3(T):\n",
        "    xA = np.exp(-G(T, TA, HA))\n",
        "    xB = np.exp(-G(T, TB, HB))\n",
        "    xC = np.exp(-G(T, TC, HC))\n",
        "    return xA + xB + xC - 1.0\n",
        "\n",
        "sol = fsolve(res3, TA)\n",
        "T_eutectic = sol[0]\n",
        "print(f'eutectic temperature: {T_eutectic:.2f} K')\n",
        "\n",
        "\n",
        "xA = np.exp(-G(T_eutectic, TA, HA))\n",
        "xB = np.exp(-G(T_eutectic, TB, HB))\n",
        "xC = np.exp(-G(T_eutectic, TC, HC))\n",
        "H = xA*HA+xB*HB+xC*HC\n",
        "M = MA*xA + MB*xB + MC*xC\n",
        "M *= 1.0e-3\n",
        "VA = MA/densA * 1.0e-3\n",
        "VB = MB/densB * 1.0e-3\n",
        "VC = MC/densC * 1.0e-3\n",
        "V = xA*VA + xB*VB + xC*VC\n",
        "dens = M/V\n",
        "print(f'eutectic composition: {xA:.3f}  {xB:.3f}  {xC:.3f}')\n",
        "print(f'latent heat: {H*1.0e-3:.2f}' + r' kJ mol^{-1}')\n",
        "print(f'{dens:.2f} kg mol^{{-1}}')\n",
        "print(f'energy density: {H/V*1.0e-6:.1f} MJ m^{{-1}}')"
      ]
    },
    {
      "cell_type": "code",
      "execution_count": null,
      "id": "41b59ceb",
      "metadata": {
        "id": "41b59ceb"
      },
      "outputs": [],
      "source": [
        ""
      ]
    }
  ],
  "metadata": {
    "kernelspec": {
      "display_name": "Python 3 (ipykernel)",
      "language": "python",
      "name": "python3"
    },
    "language_info": {
      "codemirror_mode": {
        "name": "ipython",
        "version": 3
      },
      "file_extension": ".py",
      "mimetype": "text/x-python",
      "name": "python",
      "nbconvert_exporter": "python",
      "pygments_lexer": "ipython3",
      "version": "3.9.9"
    },
    "colab": {
      "name": "eutectic.ipynb",
      "provenance": []
    }
  },
  "nbformat": 4,
  "nbformat_minor": 5
}